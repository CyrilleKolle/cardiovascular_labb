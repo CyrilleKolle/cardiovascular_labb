{
 "cells": [
  {
   "attachments": {},
   "cell_type": "markdown",
   "metadata": {},
   "source": [
    "## Spara Model "
   ]
  },
  {
   "cell_type": "code",
   "execution_count": 47,
   "metadata": {},
   "outputs": [],
   "source": [
    "from sklearn.preprocessing import StandardScaler\n",
    "from sklearn.pipeline import Pipeline\n",
    "from sklearn.ensemble import VotingClassifier\n",
    "from sklearn.model_selection import GridSearchCV\n",
    "from sklearn.ensemble import RandomForestClassifier\n",
    "from sklearn.svm import LinearSVC\n",
    "from sklearn.naive_bayes import ComplementNB, BernoulliNB, MultinomialNB\n",
    "import pandas as pd\n",
    "from sklearn.model_selection import train_test_split\n",
    "from sklearn.tree import DecisionTreeClassifier\n",
    "from sklearn.linear_model import LogisticRegression\n",
    "from utils import classification_evaluation\n",
    "from sklearn.metrics import (\n",
    "    classification_report,\n",
    "    confusion_matrix,\n",
    "    ConfusionMatrixDisplay,\n",
    ")\n",
    "import random\n",
    "import numpy as np\n",
    "import joblib"
   ]
  },
  {
   "cell_type": "code",
   "execution_count": 36,
   "metadata": {},
   "outputs": [],
   "source": [
    "# Pick out 100 random rows from dataset\n",
    "\n",
    "dataframe = pd.read_csv(\"../data/cleaned_dataset_2.csv\")"
   ]
  },
  {
   "cell_type": "code",
   "execution_count": 37,
   "metadata": {},
   "outputs": [
    {
     "name": "stdout",
     "output_type": "stream",
     "text": [
      "<class 'pandas.core.frame.DataFrame'>\n",
      "RangeIndex: 45304 entries, 0 to 45303\n",
      "Data columns (total 13 columns):\n",
      " #   Column        Non-Null Count  Dtype  \n",
      "---  ------        --------------  -----  \n",
      " 0   id            45304 non-null  int64  \n",
      " 1   age           45304 non-null  int64  \n",
      " 2   ap_hi         45304 non-null  int64  \n",
      " 3   ap_lo         45304 non-null  int64  \n",
      " 4   cholesterol   45304 non-null  int64  \n",
      " 5   gluc          45304 non-null  int64  \n",
      " 6   smoke         45304 non-null  int64  \n",
      " 7   alco          45304 non-null  int64  \n",
      " 8   active        45304 non-null  int64  \n",
      " 9   cardio        45304 non-null  int64  \n",
      " 10  age_years     45304 non-null  int64  \n",
      " 11  bmi           45304 non-null  float64\n",
      " 12  gender_women  45304 non-null  int64  \n",
      "dtypes: float64(1), int64(12)\n",
      "memory usage: 4.5 MB\n"
     ]
    }
   ],
   "source": [
    "dataframe.info()"
   ]
  },
  {
   "cell_type": "code",
   "execution_count": 38,
   "metadata": {},
   "outputs": [],
   "source": [
    "num_rows = dataframe.shape[0]\n",
    "\n",
    "random_rows = np.random.choice(num_rows, 100, replace=False)\n",
    "test_samples = dataframe.iloc[random_rows]\n",
    "\n",
    "# drop the selected rows from the original dataframe\n",
    "dataframe = dataframe.drop(random_rows)"
   ]
  },
  {
   "cell_type": "code",
   "execution_count": 39,
   "metadata": {},
   "outputs": [
    {
     "name": "stdout",
     "output_type": "stream",
     "text": [
      "<class 'pandas.core.frame.DataFrame'>\n",
      "Int64Index: 45204 entries, 0 to 45303\n",
      "Data columns (total 13 columns):\n",
      " #   Column        Non-Null Count  Dtype  \n",
      "---  ------        --------------  -----  \n",
      " 0   id            45204 non-null  int64  \n",
      " 1   age           45204 non-null  int64  \n",
      " 2   ap_hi         45204 non-null  int64  \n",
      " 3   ap_lo         45204 non-null  int64  \n",
      " 4   cholesterol   45204 non-null  int64  \n",
      " 5   gluc          45204 non-null  int64  \n",
      " 6   smoke         45204 non-null  int64  \n",
      " 7   alco          45204 non-null  int64  \n",
      " 8   active        45204 non-null  int64  \n",
      " 9   cardio        45204 non-null  int64  \n",
      " 10  age_years     45204 non-null  int64  \n",
      " 11  bmi           45204 non-null  float64\n",
      " 12  gender_women  45204 non-null  int64  \n",
      "dtypes: float64(1), int64(12)\n",
      "memory usage: 4.8 MB\n"
     ]
    }
   ],
   "source": [
    "dataframe.info()"
   ]
  },
  {
   "cell_type": "code",
   "execution_count": 40,
   "metadata": {},
   "outputs": [
    {
     "name": "stdout",
     "output_type": "stream",
     "text": [
      "<class 'pandas.core.frame.DataFrame'>\n",
      "Int64Index: 100 entries, 42748 to 4861\n",
      "Data columns (total 13 columns):\n",
      " #   Column        Non-Null Count  Dtype  \n",
      "---  ------        --------------  -----  \n",
      " 0   id            100 non-null    int64  \n",
      " 1   age           100 non-null    int64  \n",
      " 2   ap_hi         100 non-null    int64  \n",
      " 3   ap_lo         100 non-null    int64  \n",
      " 4   cholesterol   100 non-null    int64  \n",
      " 5   gluc          100 non-null    int64  \n",
      " 6   smoke         100 non-null    int64  \n",
      " 7   alco          100 non-null    int64  \n",
      " 8   active        100 non-null    int64  \n",
      " 9   cardio        100 non-null    int64  \n",
      " 10  age_years     100 non-null    int64  \n",
      " 11  bmi           100 non-null    float64\n",
      " 12  gender_women  100 non-null    int64  \n",
      "dtypes: float64(1), int64(12)\n",
      "memory usage: 10.9 KB\n"
     ]
    }
   ],
   "source": [
    "test_samples.info()"
   ]
  },
  {
   "cell_type": "code",
   "execution_count": 41,
   "metadata": {},
   "outputs": [],
   "source": [
    "# Commented out to avoid saving the file over and over.\n",
    "# test_samples.to_csv('../data/test_samples.csv', index=False)"
   ]
  },
  {
   "attachments": {},
   "cell_type": "markdown",
   "metadata": {},
   "source": [
    "----"
   ]
  },
  {
   "attachments": {},
   "cell_type": "markdown",
   "metadata": {},
   "source": [
    "## Train dataset on best model"
   ]
  },
  {
   "attachments": {},
   "cell_type": "markdown",
   "metadata": {},
   "source": [
    "- All my chosen models seemed to be arrive at approximately thesame result. \n",
    "- They all returned 72 or 73 percent accuracy, about 79 percent on recall and around 72 percent on precision.\n",
    "- I believe further research and hyperparameter tuning could improve the results as well domain knowledge on the dataset itself for better data processing.\n",
    "- Due to time constraints, the results seem to be much better than the ones I had before.\n",
    "- That being said, Logistic Regression had a 1% advantage over the other models when I used StandardScaler to scale my data.\n",
    "- So I will continue to use Logistic Regression for this project."
   ]
  },
  {
   "cell_type": "code",
   "execution_count": 43,
   "metadata": {},
   "outputs": [],
   "source": [
    "# Define my standard scaler\n",
    "scaler = StandardScaler()\n",
    "\n",
    "# initialize the my model with the best hyperparameters\n",
    "regression_model = LogisticRegression(\n",
    "    class_weight=\"balanced\",\n",
    "    l1_ratio=0.6326530612244897,\n",
    "    max_iter=10000,\n",
    "    multi_class=\"ovr\",\n",
    "    penalty=\"elasticnet\",\n",
    "    solver=\"saga\",\n",
    ")\n"
   ]
  },
  {
   "cell_type": "code",
   "execution_count": 45,
   "metadata": {},
   "outputs": [
    {
     "data": {
      "text/plain": [
       "((45204, 12), (45204,))"
      ]
     },
     "execution_count": 45,
     "metadata": {},
     "output_type": "execute_result"
    }
   ],
   "source": [
    "# Split dataset\n",
    "\n",
    "X, y = dataframe.drop('cardio', axis=1), dataframe['cardio']\n",
    "X.shape, y.shape"
   ]
  },
  {
   "cell_type": "code",
   "execution_count": 46,
   "metadata": {},
   "outputs": [
    {
     "data": {
      "text/html": [
       "<style>#sk-container-id-1 {color: black;background-color: white;}#sk-container-id-1 pre{padding: 0;}#sk-container-id-1 div.sk-toggleable {background-color: white;}#sk-container-id-1 label.sk-toggleable__label {cursor: pointer;display: block;width: 100%;margin-bottom: 0;padding: 0.3em;box-sizing: border-box;text-align: center;}#sk-container-id-1 label.sk-toggleable__label-arrow:before {content: \"▸\";float: left;margin-right: 0.25em;color: #696969;}#sk-container-id-1 label.sk-toggleable__label-arrow:hover:before {color: black;}#sk-container-id-1 div.sk-estimator:hover label.sk-toggleable__label-arrow:before {color: black;}#sk-container-id-1 div.sk-toggleable__content {max-height: 0;max-width: 0;overflow: hidden;text-align: left;background-color: #f0f8ff;}#sk-container-id-1 div.sk-toggleable__content pre {margin: 0.2em;color: black;border-radius: 0.25em;background-color: #f0f8ff;}#sk-container-id-1 input.sk-toggleable__control:checked~div.sk-toggleable__content {max-height: 200px;max-width: 100%;overflow: auto;}#sk-container-id-1 input.sk-toggleable__control:checked~label.sk-toggleable__label-arrow:before {content: \"▾\";}#sk-container-id-1 div.sk-estimator input.sk-toggleable__control:checked~label.sk-toggleable__label {background-color: #d4ebff;}#sk-container-id-1 div.sk-label input.sk-toggleable__control:checked~label.sk-toggleable__label {background-color: #d4ebff;}#sk-container-id-1 input.sk-hidden--visually {border: 0;clip: rect(1px 1px 1px 1px);clip: rect(1px, 1px, 1px, 1px);height: 1px;margin: -1px;overflow: hidden;padding: 0;position: absolute;width: 1px;}#sk-container-id-1 div.sk-estimator {font-family: monospace;background-color: #f0f8ff;border: 1px dotted black;border-radius: 0.25em;box-sizing: border-box;margin-bottom: 0.5em;}#sk-container-id-1 div.sk-estimator:hover {background-color: #d4ebff;}#sk-container-id-1 div.sk-parallel-item::after {content: \"\";width: 100%;border-bottom: 1px solid gray;flex-grow: 1;}#sk-container-id-1 div.sk-label:hover label.sk-toggleable__label {background-color: #d4ebff;}#sk-container-id-1 div.sk-serial::before {content: \"\";position: absolute;border-left: 1px solid gray;box-sizing: border-box;top: 0;bottom: 0;left: 50%;z-index: 0;}#sk-container-id-1 div.sk-serial {display: flex;flex-direction: column;align-items: center;background-color: white;padding-right: 0.2em;padding-left: 0.2em;position: relative;}#sk-container-id-1 div.sk-item {position: relative;z-index: 1;}#sk-container-id-1 div.sk-parallel {display: flex;align-items: stretch;justify-content: center;background-color: white;position: relative;}#sk-container-id-1 div.sk-item::before, #sk-container-id-1 div.sk-parallel-item::before {content: \"\";position: absolute;border-left: 1px solid gray;box-sizing: border-box;top: 0;bottom: 0;left: 50%;z-index: -1;}#sk-container-id-1 div.sk-parallel-item {display: flex;flex-direction: column;z-index: 1;position: relative;background-color: white;}#sk-container-id-1 div.sk-parallel-item:first-child::after {align-self: flex-end;width: 50%;}#sk-container-id-1 div.sk-parallel-item:last-child::after {align-self: flex-start;width: 50%;}#sk-container-id-1 div.sk-parallel-item:only-child::after {width: 0;}#sk-container-id-1 div.sk-dashed-wrapped {border: 1px dashed gray;margin: 0 0.4em 0.5em 0.4em;box-sizing: border-box;padding-bottom: 0.4em;background-color: white;}#sk-container-id-1 div.sk-label label {font-family: monospace;font-weight: bold;display: inline-block;line-height: 1.2em;}#sk-container-id-1 div.sk-label-container {text-align: center;}#sk-container-id-1 div.sk-container {/* jupyter's `normalize.less` sets `[hidden] { display: none; }` but bootstrap.min.css set `[hidden] { display: none !important; }` so we also need the `!important` here to be able to override the default hidden behavior on the sphinx rendered scikit-learn.org. See: https://github.com/scikit-learn/scikit-learn/issues/21755 */display: inline-block !important;position: relative;}#sk-container-id-1 div.sk-text-repr-fallback {display: none;}</style><div id=\"sk-container-id-1\" class=\"sk-top-container\"><div class=\"sk-text-repr-fallback\"><pre>LogisticRegression(class_weight=&#x27;balanced&#x27;, l1_ratio=0.6326530612244897,\n",
       "                   max_iter=10000, multi_class=&#x27;ovr&#x27;, penalty=&#x27;elasticnet&#x27;,\n",
       "                   solver=&#x27;saga&#x27;)</pre><b>In a Jupyter environment, please rerun this cell to show the HTML representation or trust the notebook. <br />On GitHub, the HTML representation is unable to render, please try loading this page with nbviewer.org.</b></div><div class=\"sk-container\" hidden><div class=\"sk-item\"><div class=\"sk-estimator sk-toggleable\"><input class=\"sk-toggleable__control sk-hidden--visually\" id=\"sk-estimator-id-1\" type=\"checkbox\" checked><label for=\"sk-estimator-id-1\" class=\"sk-toggleable__label sk-toggleable__label-arrow\">LogisticRegression</label><div class=\"sk-toggleable__content\"><pre>LogisticRegression(class_weight=&#x27;balanced&#x27;, l1_ratio=0.6326530612244897,\n",
       "                   max_iter=10000, multi_class=&#x27;ovr&#x27;, penalty=&#x27;elasticnet&#x27;,\n",
       "                   solver=&#x27;saga&#x27;)</pre></div></div></div></div></div>"
      ],
      "text/plain": [
       "LogisticRegression(class_weight='balanced', l1_ratio=0.6326530612244897,\n",
       "                   max_iter=10000, multi_class='ovr', penalty='elasticnet',\n",
       "                   solver='saga')"
      ]
     },
     "execution_count": 46,
     "metadata": {},
     "output_type": "execute_result"
    }
   ],
   "source": [
    "# Train dataset\n",
    "\n",
    "regression_model.fit(X,y)"
   ]
  },
  {
   "cell_type": "code",
   "execution_count": 49,
   "metadata": {},
   "outputs": [
    {
     "data": {
      "text/plain": [
       "['../models/model.pkl']"
      ]
     },
     "execution_count": 49,
     "metadata": {},
     "output_type": "execute_result"
    }
   ],
   "source": [
    "# Save the model using joblib.dump()\n",
    "\n",
    "joblib.dump(regression_model, '../models/model.pkl', compress=True)"
   ]
  }
 ],
 "metadata": {
  "kernelspec": {
   "display_name": "cardiovascular_labb-Oe2kFom0",
   "language": "python",
   "name": "python3"
  },
  "language_info": {
   "codemirror_mode": {
    "name": "ipython",
    "version": 3
   },
   "file_extension": ".py",
   "mimetype": "text/x-python",
   "name": "python",
   "nbconvert_exporter": "python",
   "pygments_lexer": "ipython3",
   "version": "3.9.13"
  },
  "orig_nbformat": 4
 },
 "nbformat": 4,
 "nbformat_minor": 2
}
